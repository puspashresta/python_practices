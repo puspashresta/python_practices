{
 "cells": [
  {
   "cell_type": "code",
   "execution_count": 1,
   "metadata": {},
   "outputs": [],
   "source": [
    "#try:'\n",
    "    #<operation>\n",
    "    \n",
    "#except:\n",
    " #   <operation>'"
   ]
  },
  {
   "cell_type": "code",
   "execution_count": 2,
   "metadata": {},
   "outputs": [
    {
     "name": "stdout",
     "output_type": "stream",
     "text": [
      "Enter name= ram\n",
      "Enter age=32\n",
      "Enter address= ktm\n",
      "ram 32 ktm\n"
     ]
    }
   ],
   "source": [
    "try:\n",
    "    name=input(\"Enter name= \")\n",
    "    age=input(\"Enter age=\")\n",
    "    add=input(\"Enter address= \")\n",
    "    print(name,age,add)\n",
    "except:\n",
    "    print(\"Error\")"
   ]
  },
  {
   "cell_type": "code",
   "execution_count": 4,
   "metadata": {},
   "outputs": [
    {
     "name": "stdout",
     "output_type": "stream",
     "text": [
      "Type Error\n"
     ]
    }
   ],
   "source": [
    "try:\n",
    "    a=10\n",
    "    b='0'\n",
    "    c=a/b\n",
    "    print(c)\n",
    "except ZeroDivisionError:\n",
    "    print(\"Zero division Error\")\n",
    "except TypeError:\n",
    "    print(\"Type Error\")"
   ]
  },
  {
   "cell_type": "code",
   "execution_count": 4,
   "metadata": {},
   "outputs": [
    {
     "ename": "ZeroDivisionError",
     "evalue": "division by zero",
     "output_type": "error",
     "traceback": [
      "\u001b[1;31m---------------------------------------------------------------------------\u001b[0m",
      "\u001b[1;31mZeroDivisionError\u001b[0m                         Traceback (most recent call last)",
      "\u001b[1;32m<ipython-input-4-e574edb36883>\u001b[0m in \u001b[0;36m<module>\u001b[1;34m\u001b[0m\n\u001b[1;32m----> 1\u001b[1;33m \u001b[1;36m10\u001b[0m\u001b[1;33m/\u001b[0m\u001b[1;36m0\u001b[0m\u001b[1;33m\u001b[0m\u001b[1;33m\u001b[0m\u001b[0m\n\u001b[0m",
      "\u001b[1;31mZeroDivisionError\u001b[0m: division by zero"
     ]
    }
   ],
   "source": [
    "10/0"
   ]
  },
  {
   "cell_type": "code",
   "execution_count": 1,
   "metadata": {},
   "outputs": [
    {
     "ename": "TypeError",
     "evalue": "unsupported operand type(s) for /: 'int' and 'str'",
     "output_type": "error",
     "traceback": [
      "\u001b[1;31m---------------------------------------------------------------------------\u001b[0m",
      "\u001b[1;31mTypeError\u001b[0m                                 Traceback (most recent call last)",
      "\u001b[1;32m<ipython-input-1-66cf002765e4>\u001b[0m in \u001b[0;36m<module>\u001b[1;34m\u001b[0m\n\u001b[1;32m----> 1\u001b[1;33m \u001b[1;36m10\u001b[0m\u001b[1;33m/\u001b[0m\u001b[1;34m'0'\u001b[0m\u001b[1;33m\u001b[0m\u001b[1;33m\u001b[0m\u001b[0m\n\u001b[0m",
      "\u001b[1;31mTypeError\u001b[0m: unsupported operand type(s) for /: 'int' and 'str'"
     ]
    }
   ],
   "source": [
    "10/'0'"
   ]
  },
  {
   "cell_type": "code",
   "execution_count": null,
   "metadata": {},
   "outputs": [
    {
     "name": "stdout",
     "output_type": "stream",
     "text": [
      "Enter a=10\n",
      "Enter b=0\n",
      "Type Error\n",
      "Enter a=0\n",
      "Enter b=10\n",
      "Type Error\n",
      "Enter a=10\n",
      "Enter b=o\n",
      "Type Error\n"
     ]
    }
   ],
   "source": [
    "def cal():\n",
    "    try:\n",
    "        a=input(\"Enter a=\")\n",
    "        b=input(\"Enter b=\")\n",
    "        c=a/b\n",
    "    except ZeroDivisionError:\n",
    "        print(\"Zero division Error\")\n",
    "    except TypeError:\n",
    "        print(\"Type Error\")\n",
    "    cal()\n",
    "cal()"
   ]
  },
  {
   "cell_type": "code",
   "execution_count": 1,
   "metadata": {},
   "outputs": [
    {
     "name": "stdout",
     "output_type": "stream",
     "text": [
      "Enter a=10\n",
      "Enter b=0\n",
      "Zero division Error\n",
      "Enter a=10\n",
      "Enter b=sd\n",
      "value Error\n",
      "Enter a=52\n",
      "Enter b=87\n"
     ]
    }
   ],
   "source": [
    "def cal():\n",
    "    try:\n",
    "        a=int(input(\"Enter a=\"))\n",
    "        b=int(input(\"Enter b=\"))\n",
    "        c=a/b\n",
    "    except ZeroDivisionError:\n",
    "        print(\"Zero division Error\")\n",
    "        cal()\n",
    "    except ValueError:\n",
    "        print(\"value Error\")\n",
    "        cal()\n",
    "cal()"
   ]
  },
  {
   "cell_type": "code",
   "execution_count": null,
   "metadata": {},
   "outputs": [
    {
     "name": "stdout",
     "output_type": "stream",
     "text": [
      "Enter a=10\n",
      "Enter b=0\n",
      " Error\n"
     ]
    }
   ],
   "source": [
    "def cal():\n",
    "    try:\n",
    "        a=int(input(\"Enter a=\"))\n",
    "        b=int(input(\"Enter b=\"))\n",
    "        c=a/b\n",
    "    except (ZeroDivisionError ,ValueError):\n",
    "        print(\" Error\")\n",
    "        cal()\n",
    "#     except ValueError:\n",
    "#         print(\"value Error\")\n",
    "#     cal()\n",
    "cal()"
   ]
  },
  {
   "cell_type": "code",
   "execution_count": 1,
   "metadata": {},
   "outputs": [
    {
     "name": "stdout",
     "output_type": "stream",
     "text": [
      "Enter a=4\n",
      "Enter b=0\n",
      "Zero division Error\n",
      "Enter a=20\n",
      "Enter b=2\n",
      "The value of c= 10.0\n"
     ]
    }
   ],
   "source": [
    "def cal():\n",
    "    try:\n",
    "        a=int(input(\"Enter a=\"))\n",
    "        b=int(input(\"Enter b=\"))\n",
    "        c=a/b\n",
    "    except ZeroDivisionError:\n",
    "        print(\"Zero division Error\")\n",
    "        cal()\n",
    "    except ValueError:\n",
    "        print(\"value Error\")\n",
    "        cal()\n",
    "    else:\n",
    "        print(\"The value of c=\",c)\n",
    "cal()"
   ]
  },
  {
   "cell_type": "code",
   "execution_count": 5,
   "metadata": {},
   "outputs": [
    {
     "name": "stdout",
     "output_type": "stream",
     "text": [
      "File not found\n"
     ]
    }
   ],
   "source": [
    "try:\n",
    "    a=open('asd.txt','r')\n",
    "except IOError:\n",
    "    print(\"File not found\")\n",
    "else:\n",
    "    print(\"File found\")\n",
    "    a.close()"
   ]
  },
  {
   "cell_type": "code",
   "execution_count": 6,
   "metadata": {},
   "outputs": [
    {
     "name": "stdout",
     "output_type": "stream",
     "text": [
      "File found\n"
     ]
    }
   ],
   "source": [
    "try:\n",
    "    a=open('asd.txt','a')\n",
    "except IOError:\n",
    "    print(\"File not found\")\n",
    "else:\n",
    "    print(\"File found\")\n",
    "    a.close()\n",
    "#a=append creates file"
   ]
  },
  {
   "cell_type": "code",
   "execution_count": 7,
   "metadata": {},
   "outputs": [
    {
     "name": "stdout",
     "output_type": "stream",
     "text": [
      "File found\n",
      "Thank you, Please visit agaoin\n"
     ]
    }
   ],
   "source": [
    "try:\n",
    "    a=open('asd.txt','r')\n",
    "except IOError:\n",
    "    print(\"File not found\")\n",
    "else:\n",
    "    print(\"File found\")\n",
    "    a.close()\n",
    "finally:\n",
    "    print(\"Thank you, Please visit agaoin\")"
   ]
  },
  {
   "cell_type": "code",
   "execution_count": 1,
   "metadata": {},
   "outputs": [
    {
     "name": "stdout",
     "output_type": "stream",
     "text": [
      "Enter a=10\n",
      "Enter b=2\n",
      "value of c= 5.0\n",
      "Thank you\n"
     ]
    }
   ],
   "source": [
    "def cal():\n",
    "    try:\n",
    "        a=int(input(\"Enter a=\"))\n",
    "        b=int(input(\"Enter b=\"))\n",
    "        c=a/b\n",
    "    except (ZeroDivisionError, ValueError):\n",
    "        print(\"Error\")\n",
    "        cal()\n",
    "    \n",
    "    else:\n",
    "        print(\"value of c=\",c)\n",
    "    finally:\n",
    "        print(\"Thank you\")\n",
    "cal()"
   ]
  },
  {
   "cell_type": "code",
   "execution_count": 2,
   "metadata": {},
   "outputs": [],
   "source": [
    "# raise\n",
    "# assert"
   ]
  },
  {
   "cell_type": "code",
   "execution_count": 3,
   "metadata": {},
   "outputs": [
    {
     "ename": "ZeroDivisionError",
     "evalue": "",
     "output_type": "error",
     "traceback": [
      "\u001b[1;31m---------------------------------------------------------------------------\u001b[0m",
      "\u001b[1;31mZeroDivisionError\u001b[0m                         Traceback (most recent call last)",
      "\u001b[1;32m<ipython-input-3-c62fc6984c64>\u001b[0m in \u001b[0;36m<module>\u001b[1;34m\u001b[0m\n\u001b[1;32m----> 1\u001b[1;33m \u001b[1;32mraise\u001b[0m \u001b[0mZeroDivisionError\u001b[0m\u001b[1;33m\u001b[0m\u001b[1;33m\u001b[0m\u001b[0m\n\u001b[0m",
      "\u001b[1;31mZeroDivisionError\u001b[0m: "
     ]
    }
   ],
   "source": [
    "raise ZeroDivisionError"
   ]
  },
  {
   "cell_type": "code",
   "execution_count": 8,
   "metadata": {},
   "outputs": [
    {
     "name": "stdout",
     "output_type": "stream",
     "text": [
      "Enter a=10\n",
      "Enter b=0\n",
      "The value of b cant be 0\n"
     ]
    }
   ],
   "source": [
    "try:\n",
    "    a=int(input(\"Enter a=\"))\n",
    "    b=int(input(\"Enter b=\"))\n",
    "    if b==0:\n",
    "        raise ArithmeticError    \n",
    "    else:   \n",
    "        print(\"a/b\",a/b)\n",
    "except ArithmeticError:\n",
    "    print(\"The value of b cant be 0\")"
   ]
  },
  {
   "cell_type": "code",
   "execution_count": 9,
   "metadata": {},
   "outputs": [
    {
     "name": "stdout",
     "output_type": "stream",
     "text": [
      "enter num=20\n",
      "20\n"
     ]
    }
   ],
   "source": [
    "try:\n",
    "    num=int(input(\"enter num=\"))\n",
    "    assert(num%2==0)\n",
    "    print(num)\n",
    "except AssertionError:\n",
    "    print(\"Error\")"
   ]
  },
  {
   "cell_type": "code",
   "execution_count": 10,
   "metadata": {},
   "outputs": [
    {
     "name": "stdout",
     "output_type": "stream",
     "text": [
      "enter num=0\n",
      "0\n"
     ]
    }
   ],
   "source": [
    "try:\n",
    "    num=int(input(\"enter num=\"))\n",
    "    assert(num%2==0)\n",
    "    print(num)\n",
    "except AssertionError:\n",
    "    print(\"Error\")"
   ]
  },
  {
   "cell_type": "code",
   "execution_count": 6,
   "metadata": {},
   "outputs": [
    {
     "name": "stdout",
     "output_type": "stream",
     "text": [
      "Enter a=2\n",
      "Enter b=3\n",
      "0.6666666666666666\n",
      "miracle\n"
     ]
    }
   ],
   "source": [
    "try:\n",
    "    a=int(input(\"Enter a=\"))\n",
    "    b=int(input(\"Enter b=\"))\n",
    "    c=a/b\n",
    "    print(c)\n",
    "except ZeroDivisionError:\n",
    "    print(\"b should not be error\")\n",
    "except ValueError:\n",
    "    print(\"a and b sould be integer\")\n",
    "else:\n",
    "    print(\"miracle\")"
   ]
  },
  {
   "cell_type": "code",
   "execution_count": 5,
   "metadata": {},
   "outputs": [
    {
     "name": "stdout",
     "output_type": "stream",
     "text": [
      "Enter username=admin\n",
      "Enter password=dsc\n",
      "Incorrrect password\n"
     ]
    }
   ],
   "source": [
    "user1='admin'\n",
    "pass1='admin'\n",
    "try:\n",
    "    User=input(\"Enter username=\")\n",
    "    Password=input(\"Enter password=\")\n",
    "    \n",
    "    if User!=user1:\n",
    "        raise ZeroDivisionError\n",
    "    elif Password!=pass1:\n",
    "        raise ValueError\n",
    "except ZeroDivisionError:\n",
    "    print(\"Invalid username\")\n",
    "except ValueError:\n",
    "    print(\"Incorrrect password\")\n",
    "else:\n",
    "    print(\"something gone wrong\")"
   ]
  },
  {
   "cell_type": "code",
   "execution_count": 1,
   "metadata": {},
   "outputs": [
    {
     "name": "stdout",
     "output_type": "stream",
     "text": [
      "Enter username=admin\n",
      "Enter password=admin\n",
      "you are  logged in\n",
      "u are logged in\n",
      "Thank You!! Visit Again\n"
     ]
    }
   ],
   "source": [
    "user1='admin'\n",
    "pass1='admin'\n",
    "count=0\n",
    "def login():\n",
    "    try:\n",
    "        User=input(\"Enter username=\")\n",
    "        Password=input(\"Enter password=\")\n",
    "#         count+=1\n",
    "        if User!=user1:\n",
    "            raise ZeroDivisionError\n",
    "        elif Password!=pass1:\n",
    "            raise ValueError\n",
    "        print(\"you are  logged in\")\n",
    "    except ZeroDivisionError:\n",
    "        print(\"Invalid username\")\n",
    "        login()\n",
    "    except ValueError:\n",
    "        print(\"Incorrrect password\")\n",
    "        login()\n",
    "    else:\n",
    "        print(\"u are logged in\")\n",
    "    finally:\n",
    "        print(\"Thank You!! Visit Again\")\n",
    "        \n",
    "        \n",
    "login()"
   ]
  },
  {
   "cell_type": "code",
   "execution_count": 6,
   "metadata": {},
   "outputs": [
    {
     "name": "stdout",
     "output_type": "stream",
     "text": [
      "Enter username=d\n",
      "Enter password=s\n",
      "Invalid username\n",
      "Enter username=sd\n",
      "Enter password=admin\n",
      "Invalid username\n",
      "Enter username=admin\n",
      "Enter password=admin\n",
      "u are logged in\n",
      "3\n",
      "2\n",
      "1\n"
     ]
    }
   ],
   "source": [
    "user1='admin'\n",
    "pass1='admin'\n",
    "count=0\n",
    "def login(count):\n",
    "    try:\n",
    "        User=input(\"Enter username=\")\n",
    "        Password=input(\"Enter password=\")\n",
    "        count+=1\n",
    "        if User!=user1:\n",
    "            raise ZeroDivisionError\n",
    "        elif Password!=pass1:\n",
    "            raise ValueError\n",
    "       \n",
    "    except ZeroDivisionError:\n",
    "        print(\"Invalid username\")\n",
    "        login(count)\n",
    "    except ValueError:\n",
    "        print(\"Incorrrect password\")\n",
    "        login(count)\n",
    "    else:\n",
    "        print(\"u are logged in\")\n",
    "    finally:\n",
    "        print(count)\n",
    "        \n",
    "count=0        \n",
    "login(count)"
   ]
  },
  {
   "cell_type": "code",
   "execution_count": 7,
   "metadata": {},
   "outputs": [
    {
     "name": "stdout",
     "output_type": "stream",
     "text": [
      "Enter n=2\n"
     ]
    },
    {
     "ename": "AssertionError",
     "evalue": "",
     "output_type": "error",
     "traceback": [
      "\u001b[1;31m---------------------------------------------------------------------------\u001b[0m",
      "\u001b[1;31mAssertionError\u001b[0m                            Traceback (most recent call last)",
      "\u001b[1;32m<ipython-input-7-6fb3637fde1e>\u001b[0m in \u001b[0;36m<module>\u001b[1;34m\u001b[0m\n\u001b[0;32m      1\u001b[0m \u001b[0mn\u001b[0m\u001b[1;33m=\u001b[0m\u001b[0mint\u001b[0m\u001b[1;33m(\u001b[0m\u001b[0minput\u001b[0m\u001b[1;33m(\u001b[0m\u001b[1;34m\"Enter n=\"\u001b[0m\u001b[1;33m)\u001b[0m\u001b[1;33m)\u001b[0m\u001b[1;33m\u001b[0m\u001b[1;33m\u001b[0m\u001b[0m\n\u001b[1;32m----> 2\u001b[1;33m \u001b[1;32massert\u001b[0m \u001b[0mn\u001b[0m\u001b[1;33m>\u001b[0m\u001b[1;36m5\u001b[0m\u001b[1;33m\u001b[0m\u001b[1;33m\u001b[0m\u001b[0m\n\u001b[0m\u001b[0;32m      3\u001b[0m \u001b[0mprint\u001b[0m\u001b[1;33m(\u001b[0m\u001b[0mn\u001b[0m\u001b[1;33m)\u001b[0m\u001b[1;33m\u001b[0m\u001b[1;33m\u001b[0m\u001b[0m\n",
      "\u001b[1;31mAssertionError\u001b[0m: "
     ]
    }
   ],
   "source": [
    "n=int(input(\"Enter n=\"))\n",
    "assert n>5\n",
    "print(n)"
   ]
  },
  {
   "cell_type": "code",
   "execution_count": 1,
   "metadata": {},
   "outputs": [
    {
     "name": "stdout",
     "output_type": "stream",
     "text": [
      "Enter name=Puspa\n",
      "Puspa\n"
     ]
    }
   ],
   "source": [
    "name=input(\"Enter name=\")\n",
    "assert name[0] =='P'\n",
    "print(name)\n",
    "# except:\n",
    "#     print(\"Enter string starting from P\")"
   ]
  },
  {
   "cell_type": "code",
   "execution_count": null,
   "metadata": {},
   "outputs": [],
   "source": []
  }
 ],
 "metadata": {
  "kernelspec": {
   "display_name": "Python 3",
   "language": "python",
   "name": "python3"
  },
  "language_info": {
   "codemirror_mode": {
    "name": "ipython",
    "version": 3
   },
   "file_extension": ".py",
   "mimetype": "text/x-python",
   "name": "python",
   "nbconvert_exporter": "python",
   "pygments_lexer": "ipython3",
   "version": "3.7.4"
  }
 },
 "nbformat": 4,
 "nbformat_minor": 2
}
